{
  "nbformat": 4,
  "nbformat_minor": 0,
  "metadata": {
    "colab": {
      "provenance": [],
      "authorship_tag": "ABX9TyPg32f8q/8NqkanhSXyYDtE",
      "include_colab_link": true
    },
    "kernelspec": {
      "name": "python3",
      "display_name": "Python 3"
    },
    "language_info": {
      "name": "python"
    }
  },
  "cells": [
    {
      "cell_type": "markdown",
      "metadata": {
        "id": "view-in-github",
        "colab_type": "text"
      },
      "source": [
        "<a href=\"https://colab.research.google.com/github/ddasagamo/Entregaa/blob/main/Untitled3.ipynb\" target=\"_parent\"><img src=\"https://colab.research.google.com/assets/colab-badge.svg\" alt=\"Open In Colab\"/></a>"
      ]
    },
    {
      "cell_type": "code",
      "execution_count": 22,
      "metadata": {
        "colab": {
          "base_uri": "https://localhost:8080/"
        },
        "id": "5xlB_MOYdSGs",
        "outputId": "8a8af470-2a20-42d7-dd90-527a958e9b63"
      },
      "outputs": [
        {
          "output_type": "stream",
          "name": "stdout",
          "text": [
            "ingresar datos:1\n",
            "ingresar datos:2\n",
            "ingresar datos:3\n",
            "ingresar datos:4\n",
            "ingresar datos:5\n",
            "ingresar datos:6\n",
            "ingresar datos:7\n",
            "ingresar datos:8\n",
            "ingresar datos:9\n",
            "ingresar datos:10\n",
            "[1, 2, 3, 4, 5, 6, 7, 8, 9, 10]\n",
            "ingresar dato de la pocision 2:4\n",
            "[1, 2, 4, 4, 5, 6, 7, 8, 9, 10]\n",
            "ingresar dato de la pocision 4:6\n",
            "[1, 2, 4, 4, 6, 6, 7, 8, 9, 10]\n",
            "ingresar dato de la pocision 7:12\n",
            "[1, 2, 4, 4, 6, 6, 7, 12, 9, 10]\n",
            "ingresar dato de la pocision 10:32\n",
            "[1, 2, 4, 4, 6, 6, 7, 12, 9, 32]\n"
          ]
        }
      ],
      "source": [
        "array=[]\n",
        "for i in range (10):\n",
        "    dato=int(input(\"ingresar datos:\"))\n",
        "    array.append(dato)\n",
        "print(array)\n",
        "\n",
        "dato2=int(input(\"ingresar dato de la pocision 2:\"))\n",
        "array[2]=(dato2)\n",
        "print(array)\n",
        "\n",
        "dato4=int(input(\"ingresar dato de la pocision 4:\"))\n",
        "array[4]=(dato4)\n",
        "print(array)\n",
        "\n",
        "dato7=int(input(\"ingresar dato de la pocision 7:\"))\n",
        "array[7]=(dato7)\n",
        "print(array)\n",
        "\n",
        "dato10=int(input(\"ingresar dato de la pocision 10:\"))\n",
        "array[9]=(dato10)\n",
        "print(array)\n",
        "\n",
        "\n",
        ""
      ]
    },
    {
      "cell_type": "code",
      "source": [
        "class Animal:\n",
        "    def __init__(self, nombre, especie):\n",
        "        self.nombre = nombre\n",
        "        self.especie = especie\n",
        "\n",
        "    def hacer_sonido(self):\n",
        "        print(\"El animal hace un sonido.\")\n",
        "\n",
        "class Perro(Animal):\n",
        "   def __init__(self, nombre, raza):\n",
        "        super().__init__(nombre, \"perro\")\n",
        "        self.raza = raza\n",
        "\n",
        "   def hacer_sonido(self):\n",
        "        return \"Guau\"\n",
        "\n",
        "\n",
        "class Gato(Animal):\n",
        "   def __init__(self, nombre, color):\n",
        "        super().__init__(nombre, \"perro\")\n",
        "        self.color = color\n",
        "\n",
        "   def hacer_sonido(self):\n",
        "        return \"Miau\"\n",
        "\n",
        "mi_perro = Perro(\"zafiro\", \"Labrador\")\n",
        "mi_gato = Gato(\"Michi\", \"Naranja\")\n",
        "\n",
        "print(f\"{mi_perro.nombre} es un {mi_perro.especie} de raza {mi_perro.raza}\")\n",
        "\n",
        "print(mi_perro.hacer_sonido())\n",
        "\n",
        "print(f\"{mi_gato.nombre} es un {mi_gato.especie} de color {mi_gato.color}\")\n",
        "\n",
        "print(mi_gato.hacer_sonido())"
      ],
      "metadata": {
        "colab": {
          "base_uri": "https://localhost:8080/"
        },
        "id": "FKo4tpRihm2s",
        "outputId": "71292afb-5702-47ea-a050-a8eea9b64735"
      },
      "execution_count": 34,
      "outputs": [
        {
          "output_type": "stream",
          "name": "stdout",
          "text": [
            "zafiro es un perro de raza Labrador\n",
            "Guau\n",
            "Michi es un perro de color Naranja\n",
            "Miau\n"
          ]
        }
      ]
    }
  ]
}